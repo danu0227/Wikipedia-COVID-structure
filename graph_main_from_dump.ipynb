{
 "cells": [
  {
   "cell_type": "code",
   "execution_count": 79,
   "metadata": {},
   "outputs": [
    {
     "name": "stdout",
     "output_type": "stream",
     "text": [
      "2275\n"
     ]
    }
   ],
   "source": [
    "import pandas as pd\n",
    "import glob,gzip\n",
    "import os\n",
    "import mwparserfromhell\n",
    "import re\n",
    "\n",
    "#Reading input data\n",
    "# languages = glob.glob('../common/data/wikipedia_cleaned_list_1120/clean*')\n",
    "languages = glob.glob('../common/data/wikipedia_cleaned_list_1120/clean_related_list_en.csv')\n",
    "\n",
    "pages = {}\n",
    "idsToWikidata = {}\n",
    "for lang in languages:\n",
    "    langcode =lang[-6:-4]\n",
    "    pages[langcode] = pd.read_csv(lang, names=[\"QID\", \"page_id\", \"language\", \"page_title\", \"category\"])\n",
    "    pages[langcode] = pages[langcode].drop([0])\n",
    "    pages[langcode] = pages[langcode].set_index(\"QID\")\n",
    "    \n",
    "    pages[langcode]['Wikidata'] = pages[langcode].index\n",
    "    #Here we build a dictionary mapping page_ids to Wikidata Item\n",
    "\n",
    "    idsToWikidata[langcode] = pages[langcode][['page_id','Wikidata']].set_index('page_id').to_dict()['Wikidata']\n",
    "print(len(idsToWikidata['en']))"
   ]
  },
  {
   "cell_type": "code",
   "execution_count": 81,
   "metadata": {},
   "outputs": [],
   "source": [
    "def process_dump(dump,  path):\n",
    "    global lang\n",
    "    global pages\n",
    "    global idsToWikidata\n",
    "    global vertices\n",
    "    global visited\n",
    "    a = True\n",
    "    for page in dump:\n",
    "        if page.namespace == 0:\n",
    "            if page.title in vertices and page.title not in visited:\n",
    "                for revision in page:\n",
    "                    visited.add(page.title)\n",
    "                    try:\n",
    "                        temps = re.findall(r'{{\\s?Main\\s?\\|.*?}}', revision.text)\n",
    "                        ts = [i.strip().split('#')[0] for j in temps for i in j.strip('{{}} ').split('|')[1:] if '=' not in i]\n",
    "                        yield revision.page.title, ts\n",
    "                    except:\n",
    "                        print(\"exception at \", page.title)\n",
    "                        print(revision.text)\n",
    "                        pass"
   ]
  },
  {
   "cell_type": "code",
   "execution_count": null,
   "metadata": {
    "scrolled": true
   },
   "outputs": [
    {
     "name": "stdout",
     "output_type": "stream",
     "text": [
      "['../common/data/20201120/enwiki-20201120-pages-meta-current.xml.bz2']\n",
      "en\n",
      "{'COVID-19 pandemic': [], 'Severe acute respiratory syndrome coronavirus 2': [], 'Coronavirus disease 2019': []}\n",
      "{'COVID-19 pandemic', 'Severe acute respiratory syndrome coronavirus 2', 'Coronavirus disease 2019'}\n",
      "set()\n",
      "COVID-19 pandemic ['COVID-19 pandemic by country and territory', 'COVID-19 pandemic cases', 'COVID-19 pandemic deaths', 'COVID-19 pandemic death rates by country', 'Transmission of COVID-19', 'Symptoms of COVID-19', 'Severe acute respiratory syndrome coronavirus 2', 'COVID-19 testing', 'Social distancing measures related to the COVID-19 pandemic', 'Face masks during the COVID-19 pandemic', 'Hand washing', 'COVID-19 vaccine', 'Mitigation of COVID-19', 'Management of COVID-19', 'Timeline of the COVID-19 pandemic', 'Timeline of the COVID-19 pandemic in 2019', 'COVID-19 pandemic lockdowns', 'COVID-19 pandemic by country and territory', 'National responses to the COVID-19 pandemic', 'COVID-19 pandemic in Asia', 'COVID-19 pandemic in mainland China', 'COVID-19 pandemic in India', 'COVID-19 pandemic in Iran', 'COVID-19 pandemic in South Korea', 'COVID-19 pandemic in Europe', 'COVID-19 pandemic in France', 'COVID-19 pandemic in Italy', 'COVID-19 pandemic in Spain', 'COVID-19 pandemic in Sweden', 'COVID-19 pandemic in the United Kingdom', 'COVID-19 pandemic in North America', 'COVID-19 pandemic in the United States', 'COVID-19 pandemic in South America', 'COVID-19 pandemic in Brazil', 'COVID-19 pandemic in Africa', 'COVID-19 pandemic in Oceania', 'Travel restrictions related to the COVID-19 pandemic', 'Evacuations related to the COVID-19 pandemic', 'United Nations response to the COVID-19 pandemic', \"World Health Organization's response to the COVID-19 pandemic\", 'Protests over responses to the COVID-19 pandemic', 'Impact of the COVID-19 pandemic', 'Economic impact of the COVID-19 pandemic', 'Shortages related to the COVID-19 pandemic', 'List of events affected by the COVID-19 pandemic', 'Impact of the COVID-19 pandemic on politics', 'Impact of the COVID-19 pandemic on education', 'Impact of the COVID-19 pandemic on other health issues', 'Impact of the COVID-19 pandemic on the environment', 'List of incidents of xenophobia and racism related to the COVID-19 pandemic', 'Misinformation related to the COVID-19 pandemic']\n",
      "Severe acute respiratory syndrome coronavirus 2 ['Transmission of COVID-19', 'COVID-19 pandemic']\n",
      "Coronavirus disease 2019 ['Symptoms of COVID-19', 'Transmission of COVID-19', 'Severe acute respiratory syndrome coronavirus 2', 'COVID-19 testing', 'Management of COVID-19', 'Timeline of the COVID-19 pandemic', 'COVID-19 pandemic', 'COVID-19 pandemic death rates by country', 'Gendered impact of the COVID-19 pandemic', 'Misinformation related to the COVID-19 pandemic', 'COVID-19 vaccine', 'COVID-19 drug repurposing research']\n",
      "1 54\n",
      "10871.57358455658\n",
      "Hand washing []\n"
     ]
    }
   ],
   "source": [
    "import mwxml\n",
    "import json\n",
    "import csv\n",
    "import time\n",
    "date = \"20201120\"\n",
    "\n",
    "start = time.time()\n",
    "langs = ['en']\n",
    "for lang in langs:\n",
    "    paths = glob.glob('../common/data/20201120/%swiki-20201120-pages-meta-current.xml.bz2' % lang)\n",
    "                      \n",
    "    print(paths)\n",
    "    print(lang)\n",
    "#     vertices = {'COVID19'}\n",
    "    vertices = {'COVID-19 pandemic', 'Severe acute respiratory syndrome coronavirus 2', 'Coronavirus disease 2019'}\n",
    "#     vertices = {'Pandemia de COVID-19', 'SARS-CoV-2', 'COVID-19'}\n",
    "    visited = set()\n",
    "#     adjacency_dict = {'코로나19 범유행': []} #\n",
    "    adjacency_dict = {'COVID-19 pandemic': [], 'Severe acute respiratory syndrome coronavirus 2': [], 'Coronavirus disease 2019': []} #\n",
    "#     adjacency_dict = {'Pandemia de COVID-19': [], 'SARS-CoV-2': [], 'COVID-19': []} #\n",
    "    \n",
    "    cont = 0\n",
    "    if cont != 0:\n",
    "        tt = open('%s_from_3seed_step%d.json'%(lang, cont), 'r')\n",
    "        adjacency_dict = json.load(tt)\n",
    "        visited = set(adjacency_dict.keys())\n",
    "        vertices = {y for x in adjacency_dict.values() for y in x}\n",
    "        vertices.update(visited)\n",
    "    print(adjacency_dict)\n",
    "    print(vertices)\n",
    "    print(visited)\n",
    "    while True:    \n",
    "        childs = set()\n",
    "        with open(\"%s_from_3seed_step%d.json\" % (lang, cont), 'w', encoding='utf-8') as f:\n",
    "            f.write(json.dumps(adjacency_dict, ensure_ascii=False))\n",
    "        for parent, child in mwxml.map(process_dump, paths, threads = 16): # what meaning for threads?\n",
    "            childs.update(child)\n",
    "            adjacency_dict[parent] = child #\n",
    "            print(parent, child)\n",
    "        if childs.issubset(visited):\n",
    "            break\n",
    "        vertices.update(childs)\n",
    "        cont += 1\n",
    "        print(cont, len(vertices))\n",
    "        print(time.time()-start)\n",
    "    \n",
    "f.close()\n",
    "        \n",
    "        \n",
    "print(time.time()-start)"
   ]
  },
  {
   "cell_type": "code",
   "execution_count": 63,
   "metadata": {},
   "outputs": [
    {
     "data": {
      "text/plain": [
       "{'COVID-19 pandemic': [],\n",
       " 'Severe acute respiratory syndrome coronavirus 2': [],\n",
       " 'Coronavirus disease 2019': []}"
      ]
     },
     "execution_count": 63,
     "metadata": {},
     "output_type": "execute_result"
    }
   ],
   "source": [
    "vertices\n",
    "adjacency_dict"
   ]
  }
 ],
 "metadata": {
  "kernelspec": {
   "display_name": "Python 3",
   "language": "python",
   "name": "python3"
  },
  "language_info": {
   "codemirror_mode": {
    "name": "ipython",
    "version": 3
   },
   "file_extension": ".py",
   "mimetype": "text/x-python",
   "name": "python",
   "nbconvert_exporter": "python",
   "pygments_lexer": "ipython3",
   "version": "3.7.3"
  }
 },
 "nbformat": 4,
 "nbformat_minor": 4
}
