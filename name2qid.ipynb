{
 "cells": [
  {
   "cell_type": "code",
   "execution_count": 63,
   "metadata": {
    "scrolled": false
   },
   "outputs": [
    {
     "name": "stdout",
     "output_type": "stream",
     "text": [
      "11\n"
     ]
    }
   ],
   "source": [
    "from collections import defaultdict\n",
    "import json\n",
    "import urllib\n",
    "import pandas as pd\n",
    "import re\n",
    "from collections import defaultdict\n",
    "import os\n",
    "\n",
    "langs = ['pt','ko','ja','en','es','fr','de','ar','it','zh','ru']\n",
    "langs = ['it']\n",
    "for lang in langs:\n",
    "    dict1 = {}\n",
    "    for i in range(17):\n",
    "        f = open('./kcc2021/t2q_%s_%d.json'%(lang,i), 'r')\n",
    "        a = json.load(f)\n",
    "        dict1.update(a)\n",
    "    out_f = open('./kcc2021/t2q_%s.json'%(lang), 'w')\n",
    "    for i in range(17):\n",
    "        os.remove('./kcc2021/t2q_%s_%d.json' % (lang, i))\n",
    "    out_f.write(json.dumps(dict1, ensure_ascii=False))\n"
   ]
  },
  {
   "cell_type": "code",
   "execution_count": 58,
   "metadata": {},
   "outputs": [],
   "source": [
    "for lang in langs:\n",
    "    f = open('./kcc2021/t2q_%s.json'%lang, 'r')\n",
    "    t2q = json.load(f)\n",
    "    f.close()\n",
    "    for i in ['m']:\n",
    "        f = open('./kcc2021/%s_%s.json'%(lang, i), 'r')\n",
    "        adj_t = json.load(f)\n",
    "        f.close()\n",
    "        out_f = open('./kcc2021/%s_%s_qid.json' % (lang, i), 'w')\n",
    "        adj_q = defaultdict(set)\n",
    "        for k, v in adj_t.items():\n",
    "            k_q = t2q.get(k)\n",
    "            if k_q in [None, 'null']:\n",
    "                k_q = k\n",
    "            v_q = []\n",
    "            for title in v:\n",
    "                qid = t2q.get(title)\n",
    "                if qid in [None, 'null']:\n",
    "                    qid = title\n",
    "                v_q.append(qid)\n",
    "            adj_q[k_q].update(v_q)\n",
    "        adj_q_list = {}\n",
    "        for k, v in adj_q.items():\n",
    "            adj_q_list[k] = list(v)\n",
    "        out_f.write(json.dumps(adj_q_list, ensure_ascii = False))\n",
    "        "
   ]
  },
  {
   "cell_type": "code",
   "execution_count": 47,
   "metadata": {},
   "outputs": [],
   "source": [
    "out_f.close()"
   ]
  },
  {
   "cell_type": "code",
   "execution_count": 52,
   "metadata": {},
   "outputs": [
    {
     "name": "stdout",
     "output_type": "stream",
     "text": [
      "pt 1956 4614\n",
      "pt 1956 4614\n",
      "pt 1956 4614\n",
      "ko 116 116\n",
      "ko 116 116\n",
      "ko 116 116\n",
      "ja 80 82\n",
      "ja 80 82\n",
      "ja 80 82\n"
     ]
    }
   ],
   "source": [
    "langs = ['pt', 'ko', 'ja']\n",
    "for lang in langs:\n",
    "    f = open('./test_api/20201120_title_q_%s.json'%lang, 'r')\n",
    "    t2q = json.load(f)\n",
    "    f.close()\n",
    "    for i in ['m','f','s']:\n",
    "        f = open('./test_api/network/net_list_%s.csv'%(lang), 'r')\n",
    "        f2 = open('./network/net_list_%s.csv'%(lang), 'r')\n",
    "#         adj_t = json.load(f)\n",
    "#         adj_t2 = json.load(f2)\n",
    "        \n",
    "#         l1 = set(adj_t.keys())\n",
    "#         l1.update({y for x in list(adj_t.values()) for y in x})\n",
    "        \n",
    "        l2 = f2.readlines()\n",
    "        l1 = f.readlines()\n",
    "        print(lang, len(l1), len(l2))\n",
    "        \n",
    "        f.close()\n",
    "        f2.close()\n",
    "        "
   ]
  },
  {
   "cell_type": "code",
   "execution_count": null,
   "metadata": {},
   "outputs": [],
   "source": []
  }
 ],
 "metadata": {
  "kernelspec": {
   "display_name": "Python 3",
   "language": "python",
   "name": "python3"
  },
  "language_info": {
   "codemirror_mode": {
    "name": "ipython",
    "version": 3
   },
   "file_extension": ".py",
   "mimetype": "text/x-python",
   "name": "python",
   "nbconvert_exporter": "python",
   "pygments_lexer": "ipython3",
   "version": "3.7.3"
  }
 },
 "nbformat": 4,
 "nbformat_minor": 4
}
